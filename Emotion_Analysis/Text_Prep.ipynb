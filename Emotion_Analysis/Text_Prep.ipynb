{
 "cells": [
  {
   "cell_type": "code",
   "execution_count": 2,
   "id": "7d7e71ee-48ea-4848-8375-63037a9c901f",
   "metadata": {},
   "outputs": [
    {
     "name": "stderr",
     "output_type": "stream",
     "text": [
      "[nltk_data] Downloading package stopwords to\n",
      "[nltk_data]     C:\\Users\\Cloud\\AppData\\Roaming\\nltk_data...\n",
      "[nltk_data]   Package stopwords is already up-to-date!\n"
     ]
    },
    {
     "data": {
      "text/plain": [
       "True"
      ]
     },
     "execution_count": 2,
     "metadata": {},
     "output_type": "execute_result"
    }
   ],
   "source": [
    "import nltk\n",
    "nltk.download('stopwords')"
   ]
  },
  {
   "cell_type": "code",
   "execution_count": 3,
   "id": "a01b94ef-36b5-4d40-935e-7f1d7a15ad06",
   "metadata": {},
   "outputs": [
    {
     "name": "stderr",
     "output_type": "stream",
     "text": [
      "[nltk_data] Downloading package punkt to\n",
      "[nltk_data]     C:\\Users\\Cloud\\AppData\\Roaming\\nltk_data...\n",
      "[nltk_data]   Package punkt is already up-to-date!\n"
     ]
    },
    {
     "data": {
      "text/plain": [
       "['i', 'am', 'so', 'happy', 'to', 'see', 'you']"
      ]
     },
     "execution_count": 3,
     "metadata": {},
     "output_type": "execute_result"
    }
   ],
   "source": [
    "#tokenization\n",
    "import nltk\n",
    "nltk.download('punkt')  # Download the necessary tokenizer models\n",
    "\n",
    "from nltk.tokenize import word_tokenize\n",
    "\n",
    "def token(content):\n",
    "    return word_tokenize(content,\"english\")\n",
    "\n",
    "token(\"i  am so happy to see you\")"
   ]
  },
  {
   "cell_type": "code",
   "execution_count": 4,
   "id": "206733fc-9cad-4556-8783-0d5ed052e3c8",
   "metadata": {},
   "outputs": [
    {
     "data": {
      "text/plain": [
       "['happy', 'see']"
      ]
     },
     "execution_count": 4,
     "metadata": {},
     "output_type": "execute_result"
    }
   ],
   "source": [
    "#removing stop words\n",
    "from nltk.corpus import stopwords\n",
    "\n",
    "final_words=[]\n",
    "def rm_stopwords(words):\n",
    "   final_words = [word for word in words if word not in stopwords.words(\"english\")]\n",
    "   return final_words\n",
    "rm_stopwords(['i', 'am', 'so', 'happy', 'to', 'see', 'you'])"
   ]
  },
  {
   "cell_type": "code",
   "execution_count": 5,
   "id": "eda7d5fd-3039-4712-bea3-09bef910b769",
   "metadata": {},
   "outputs": [
    {
     "name": "stderr",
     "output_type": "stream",
     "text": [
      "[nltk_data] Downloading package wordnet to\n",
      "[nltk_data]     C:\\Users\\Cloud\\AppData\\Roaming\\nltk_data...\n",
      "[nltk_data]   Package wordnet is already up-to-date!\n"
     ]
    },
    {
     "data": {
      "text/plain": [
       "True"
      ]
     },
     "execution_count": 5,
     "metadata": {},
     "output_type": "execute_result"
    }
   ],
   "source": [
    "nltk.download('wordnet') # for english"
   ]
  },
  {
   "cell_type": "code",
   "execution_count": 6,
   "id": "31a0dc70-58a8-492d-8940-052bc5d5ea22",
   "metadata": {},
   "outputs": [],
   "source": [
    "#stemming\n",
    "from nltk.stem import SnowballStemmer #i should say why using it\n",
    "\n",
    "snowball = SnowballStemmer(language='english')\n"
   ]
  },
  {
   "cell_type": "code",
   "execution_count": 7,
   "id": "ff1a595d-494f-478a-bb21-ef301ebf92bd",
   "metadata": {},
   "outputs": [],
   "source": [
    "#lemmatization\n",
    "from nltk.stem import WordNetLemmatizer\n",
    "\n",
    "lemmatizer = WordNetLemmatizer()\n"
   ]
  },
  {
   "cell_type": "code",
   "execution_count": 8,
   "id": "1d6ae380-909b-4c2f-9820-e2b84c395895",
   "metadata": {},
   "outputs": [],
   "source": [
    "# stemming + lemmatization\n",
    "\n",
    "def stem_lemma(word):\n",
    "  stem =  snowball.stem(word)\n",
    "  lemma = lemmatizer.lemmatize(stem,pos='v')\n",
    "\n",
    "  return lemma"
   ]
  },
  {
   "cell_type": "code",
   "execution_count": 12,
   "id": "d555856a-b911-427c-be98-b3af7337f31c",
   "metadata": {},
   "outputs": [],
   "source": [
    "\n",
    "def many_stem_lemma(list_of_words):\n",
    "    new_list =[]\n",
    "    for word in list_of_words:\n",
    "      stem =  snowball.stem(word)\n",
    "      lemma = lemmatizer.lemmatize(stem,pos='v')\n",
    "      new_list.append(lemma)\n",
    "    return new_list"
   ]
  },
  {
   "cell_type": "code",
   "execution_count": 15,
   "id": "5c87fac4-52ad-4585-a193-7d590368845f",
   "metadata": {},
   "outputs": [
    {
     "data": {
      "text/plain": [
       "['tiffanylu',\n",
       " 'know',\n",
       " 'listenin',\n",
       " 'bad',\n",
       " 'habit',\n",
       " 'earlier',\n",
       " 'start',\n",
       " 'freakin',\n",
       " 'part']"
      ]
     },
     "execution_count": 15,
     "metadata": {},
     "output_type": "execute_result"
    }
   ],
   "source": [
    "import re\n",
    "str ='@tiffanylue i know  i was listenin to bad habit earlier and i started freakin at his part =['\n",
    "lower_content = str.lower()\n",
    "punct_content = re.sub(r'[^\\w\\s]', '', lower_content)\n",
    "\n",
    "L = many_stem_lemma(rm_stopwords(token(punct_content)))\n",
    "L"
   ]
  },
  {
   "cell_type": "code",
   "execution_count": null,
   "id": "da65ea99-1ce1-4e62-b1ed-7cfb4fcdf5b3",
   "metadata": {},
   "outputs": [],
   "source": []
  }
 ],
 "metadata": {
  "kernelspec": {
   "display_name": "Python 3 (ipykernel)",
   "language": "python",
   "name": "python3"
  },
  "language_info": {
   "codemirror_mode": {
    "name": "ipython",
    "version": 3
   },
   "file_extension": ".py",
   "mimetype": "text/x-python",
   "name": "python",
   "nbconvert_exporter": "python",
   "pygments_lexer": "ipython3",
   "version": "3.10.0"
  }
 },
 "nbformat": 4,
 "nbformat_minor": 5
}
