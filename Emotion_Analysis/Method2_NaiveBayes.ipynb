{
 "cells": [
  {
   "cell_type": "code",
   "execution_count": 2,
   "id": "585d5e9b-5e1c-4eae-91e1-7673e2ec077e",
   "metadata": {},
   "outputs": [
    {
     "name": "stdout",
     "output_type": "stream",
     "text": [
      "--\n"
     ]
    }
   ],
   "source": [
    "#Naive Bayes\n",
    "import pandas as pd\n",
    "from sklearn.model_selection import train_test_split\n",
    "from sklearn.linear_model import LogisticRegression\n",
    "from sklearn.naive_bayes import MultinomialNB, GaussianNB\n",
    "\n",
    "data = pd.read_csv('Tweets_output2.csv',header=0)\n",
    "X = data.iloc[ : ,0].values\n",
    "Y = data.iloc[ : ,1].values\n",
    "\n",
    "#X[0:4]\n",
    "x_train, x_test, y_train, y_test = train_test_split(X, Y, test_size=0.15, random_state=0)\n",
    "\n",
    "print(\"--\")"
   ]
  },
  {
   "cell_type": "code",
   "execution_count": 34,
   "id": "55177da7-b5f7-4b81-9f1b-3f3d5ec6859e",
   "metadata": {},
   "outputs": [
    {
     "name": "stdout",
     "output_type": "stream",
     "text": [
      "--\n"
     ]
    }
   ],
   "source": [
    "from sklearn.feature_extraction.text import CountVectorizer\n",
    "CVectorizer = CountVectorizer()\n",
    "\n",
    "x_train_vect = CVectorizer.fit_transform(x_train)\n",
    "x_test_vect = CVectorizer.transform(x_test)\n",
    "\n",
    "print(\"--\")"
   ]
  },
  {
   "cell_type": "code",
   "execution_count": 35,
   "id": "3c9beb71-6643-4f42-af28-6691ce27686e",
   "metadata": {},
   "outputs": [
    {
     "name": "stdout",
     "output_type": "stream",
     "text": [
      "--\n"
     ]
    }
   ],
   "source": [
    "#Multinomial classifier\n",
    "modele1 = MultinomialNB()\n",
    "modele1.fit(x_train_vect, y_train)\n",
    "\n",
    "# Make predictions on the test set\n",
    "predictions1 = modele1.predict(x_test_vect)\n",
    "\n",
    "print(\"--\")"
   ]
  },
  {
   "cell_type": "code",
   "execution_count": 36,
   "id": "87c8e8ac-5794-41b5-a344-5902d87469d1",
   "metadata": {},
   "outputs": [
    {
     "name": "stderr",
     "output_type": "stream",
     "text": [
      "C:\\Users\\Cloud\\AppData\\Local\\Programs\\Python\\Python310\\lib\\site-packages\\sklearn\\metrics\\_classification.py:1471: UndefinedMetricWarning: Precision is ill-defined and being set to 0.0 in labels with no predicted samples. Use `zero_division` parameter to control this behavior.\n",
      "  _warn_prf(average, modifier, msg_start, len(result))\n",
      "C:\\Users\\Cloud\\AppData\\Local\\Programs\\Python\\Python310\\lib\\site-packages\\sklearn\\metrics\\_classification.py:1471: UndefinedMetricWarning: Precision and F-score are ill-defined and being set to 0.0 in labels with no predicted samples. Use `zero_division` parameter to control this behavior.\n",
      "  _warn_prf(average, modifier, msg_start, len(result))\n",
      "C:\\Users\\Cloud\\AppData\\Local\\Programs\\Python\\Python310\\lib\\site-packages\\sklearn\\metrics\\_classification.py:1471: UndefinedMetricWarning: Precision and F-score are ill-defined and being set to 0.0 in labels with no predicted samples. Use `zero_division` parameter to control this behavior.\n",
      "  _warn_prf(average, modifier, msg_start, len(result))\n"
     ]
    },
    {
     "name": "stdout",
     "output_type": "stream",
     "text": [
      "accuracy :  0.3448862757233483\n",
      "precision 0.34080812686051476\n",
      "\n",
      " classification_report: \n",
      "               precision    recall  f1-score   support\n",
      "\n",
      "       anger       1.00      0.04      0.07        28\n",
      "     boredom       0.00      0.00      0.00        35\n",
      "     disgust       0.00      0.00      0.00         1\n",
      "       empty       0.81      0.44      0.57       387\n",
      "  enthusiasm       0.00      0.00      0.00       114\n",
      "         fun       0.00      0.00      0.00       273\n",
      "   happiness       0.38      0.47      0.42       939\n",
      "        hate       0.67      0.01      0.02       193\n",
      "        love       0.51      0.26      0.34       552\n",
      "     neutral       0.35      0.34      0.35      1308\n",
      "      relief       0.00      0.00      0.00       232\n",
      "     sadness       0.33      0.09      0.14       794\n",
      "    surprise       0.00      0.00      0.00       321\n",
      "       worry       0.29      0.74      0.41      1286\n",
      "\n",
      "    accuracy                           0.34      6463\n",
      "   macro avg       0.31      0.17      0.17      6463\n",
      "weighted avg       0.34      0.34      0.29      6463\n",
      "\n"
     ]
    },
    {
     "name": "stderr",
     "output_type": "stream",
     "text": [
      "C:\\Users\\Cloud\\AppData\\Local\\Programs\\Python\\Python310\\lib\\site-packages\\sklearn\\metrics\\_classification.py:1471: UndefinedMetricWarning: Precision and F-score are ill-defined and being set to 0.0 in labels with no predicted samples. Use `zero_division` parameter to control this behavior.\n",
      "  _warn_prf(average, modifier, msg_start, len(result))\n"
     ]
    }
   ],
   "source": [
    "from sklearn.metrics import accuracy_score, precision_score, classification_report\n",
    "\n",
    "precision = precision_score(y_test, predictions1, average='weighted')\n",
    "accuracy = accuracy_score(y_test, predictions1)\n",
    "classif_report = classification_report(y_test, predictions1)\n",
    "print(\"accuracy : \",accuracy)\n",
    "print(\"precision\",precision)\n",
    "print(\"\\n classification_report: \\n\",classif_report)"
   ]
  },
  {
   "cell_type": "code",
   "execution_count": 5,
   "id": "35966972-4c57-4809-a233-ce4ccda4f754",
   "metadata": {},
   "outputs": [
    {
     "name": "stdout",
     "output_type": "stream",
     "text": [
      "--\n"
     ]
    }
   ],
   "source": [
    "#Gaussian classifier\n",
    "\n",
    "X2 = data.iloc[ 15000: ,0].values\n",
    "Y2 = data.iloc[ 15000 : ,1].values\n",
    "x_train, x_test, y_train, y_test = train_test_split(X2, Y2, test_size=0.10, random_state=0)\n",
    "\n",
    "x_train_vect = CVectorizer.fit_transform(x_train)\n",
    "x_test_vect = CVectorizer.transform(x_test)\n",
    "\n",
    "modele2 = GaussianNB()\n",
    "modele2.fit(x_train_vect.toarray(), y_train)\n",
    "\n",
    "predictions2 = modele2.predict(x_test_vect.toarray())\n",
    "\n",
    "print(\"--\")"
   ]
  },
  {
   "cell_type": "code",
   "execution_count": 6,
   "id": "4919db30-6116-4aab-9704-9fe39dc6b67c",
   "metadata": {},
   "outputs": [
    {
     "name": "stdout",
     "output_type": "stream",
     "text": [
      "accuracy :  0.13563545745817016\n",
      "precision 0.20990537584346333\n",
      "\n",
      " classification_report: \n",
      "               precision    recall  f1-score   support\n",
      "\n",
      "       anger       0.03      0.17      0.05        12\n",
      "     boredom       0.01      0.17      0.01         6\n",
      "     disgust       0.00      0.00      0.00         1\n",
      "       empty       0.52      0.47      0.49       217\n",
      "  enthusiasm       0.01      0.06      0.01        47\n",
      "         fun       0.05      0.06      0.05       175\n",
      "   happiness       0.30      0.13      0.18       557\n",
      "        hate       0.01      0.02      0.01        47\n",
      "        love       0.21      0.15      0.17       345\n",
      "     neutral       0.24      0.10      0.14       559\n",
      "      relief       0.05      0.10      0.07       126\n",
      "     sadness       0.09      0.09      0.09       195\n",
      "    surprise       0.07      0.12      0.09       138\n",
      "       worry       0.15      0.09      0.11       384\n",
      "\n",
      "    accuracy                           0.14      2809\n",
      "   macro avg       0.12      0.12      0.11      2809\n",
      "weighted avg       0.21      0.14      0.16      2809\n",
      "\n"
     ]
    }
   ],
   "source": [
    "from sklearn.metrics import accuracy_score, precision_score, classification_report\n",
    "\n",
    "precision = precision_score(y_test, predictions2, average='weighted')\n",
    "accuracy = accuracy_score(y_test, predictions2)\n",
    "classif_report = classification_report(y_test, predictions2)\n",
    "print(\"accuracy : \",accuracy)\n",
    "print(\"precision\",precision)\n",
    "print(\"\\n classification_report: \\n\",classif_report)"
   ]
  },
  {
   "cell_type": "code",
   "execution_count": null,
   "id": "7e6d7ec9-5ddd-4c0c-8f97-38ca337d75a9",
   "metadata": {},
   "outputs": [],
   "source": []
  }
 ],
 "metadata": {
  "kernelspec": {
   "display_name": "Python 3 (ipykernel)",
   "language": "python",
   "name": "python3"
  },
  "language_info": {
   "codemirror_mode": {
    "name": "ipython",
    "version": 3
   },
   "file_extension": ".py",
   "mimetype": "text/x-python",
   "name": "python",
   "nbconvert_exporter": "python",
   "pygments_lexer": "ipython3",
   "version": "3.10.0"
  }
 },
 "nbformat": 4,
 "nbformat_minor": 5
}
