{
 "cells": [
  {
   "cell_type": "code",
   "execution_count": 14,
   "id": "6fdeb016-61d9-489d-8daa-3ff01b5eebc6",
   "metadata": {},
   "outputs": [
    {
     "name": "stdout",
     "output_type": "stream",
     "text": [
      "--\n"
     ]
    }
   ],
   "source": [
    "#Logistic Regression\n",
    "import pandas as pd\n",
    "from sklearn.model_selection import train_test_split\n",
    "from sklearn.linear_model import LogisticRegression\n",
    "\n",
    "data = pd.read_csv('Tweets_output2.csv',header=0)\n",
    "X = data.iloc[ : ,0].values\n",
    "Y = data.iloc[ : ,1].values\n",
    "\n",
    "#X[0:4]\n",
    "x_train, x_test, y_train, y_test = train_test_split(X, Y, test_size=0.15, random_state=0)\n",
    "\n",
    "modele = LogisticRegression(multi_class='multinomial', solver='saga', max_iter=1000)\n",
    "print(\"--\")"
   ]
  },
  {
   "cell_type": "code",
   "execution_count": 15,
   "id": "40087add-5078-4976-978c-17ba32c289be",
   "metadata": {},
   "outputs": [
    {
     "name": "stdout",
     "output_type": "stream",
     "text": [
      "--\n"
     ]
    }
   ],
   "source": [
    "from sklearn.feature_extraction.text import CountVectorizer\n",
    "CVectorizer = CountVectorizer()\n",
    "\n",
    "x_train_vect = CVectorizer.fit_transform(x_train)\n",
    "print(\"--\")"
   ]
  },
  {
   "cell_type": "code",
   "execution_count": 16,
   "id": "50c6c096-aa36-4bdf-99dd-3b0d87a8800c",
   "metadata": {},
   "outputs": [
    {
     "name": "stdout",
     "output_type": "stream",
     "text": [
      "--\n"
     ]
    }
   ],
   "source": [
    "modele.fit(x_train_vect, y_train)\n",
    "print(\"--\")"
   ]
  },
  {
   "cell_type": "code",
   "execution_count": 17,
   "id": "0bb3a44e-c34e-43e0-8a27-50fdd6e51458",
   "metadata": {},
   "outputs": [
    {
     "name": "stdout",
     "output_type": "stream",
     "text": [
      "--\n"
     ]
    }
   ],
   "source": [
    "x_test_vect = CVectorizer.transform(x_test)\n",
    "predictions = modele.predict(x_test_vect)\n",
    "print(\"--\")"
   ]
  },
  {
   "cell_type": "code",
   "execution_count": 18,
   "id": "e30e3994-86ed-4aac-8a8f-46e7abbaa94a",
   "metadata": {},
   "outputs": [
    {
     "name": "stderr",
     "output_type": "stream",
     "text": [
      "C:\\Users\\Cloud\\AppData\\Local\\Programs\\Python\\Python310\\lib\\site-packages\\sklearn\\metrics\\_classification.py:1471: UndefinedMetricWarning: Precision is ill-defined and being set to 0.0 in labels with no predicted samples. Use `zero_division` parameter to control this behavior.\n",
      "  _warn_prf(average, modifier, msg_start, len(result))\n",
      "C:\\Users\\Cloud\\AppData\\Local\\Programs\\Python\\Python310\\lib\\site-packages\\sklearn\\metrics\\_classification.py:1471: UndefinedMetricWarning: Precision and F-score are ill-defined and being set to 0.0 in labels with no predicted samples. Use `zero_division` parameter to control this behavior.\n",
      "  _warn_prf(average, modifier, msg_start, len(result))\n"
     ]
    },
    {
     "name": "stdout",
     "output_type": "stream",
     "text": [
      "accuracy :  0.37242766517097325\n",
      "precision 0.35953409181616836\n",
      "\n",
      " classification_report: \n",
      "               precision    recall  f1-score   support\n",
      "\n",
      "       anger       1.00      0.07      0.13        28\n",
      "     boredom       0.00      0.00      0.00        35\n",
      "     disgust       0.00      0.00      0.00         1\n",
      "       empty       0.76      0.63      0.69       387\n",
      "  enthusiasm       0.14      0.01      0.02       114\n",
      "         fun       0.14      0.05      0.08       273\n",
      "   happiness       0.41      0.43      0.42       939\n",
      "        hate       0.31      0.17      0.22       193\n",
      "        love       0.43      0.36      0.39       552\n",
      "     neutral       0.34      0.56      0.43      1308\n",
      "      relief       0.14      0.04      0.06       232\n",
      "     sadness       0.33      0.26      0.29       794\n",
      "    surprise       0.21      0.08      0.11       321\n",
      "       worry       0.35      0.42      0.38      1286\n",
      "\n",
      "    accuracy                           0.37      6463\n",
      "   macro avg       0.33      0.22      0.23      6463\n",
      "weighted avg       0.36      0.37      0.35      6463\n",
      "\n"
     ]
    },
    {
     "name": "stderr",
     "output_type": "stream",
     "text": [
      "C:\\Users\\Cloud\\AppData\\Local\\Programs\\Python\\Python310\\lib\\site-packages\\sklearn\\metrics\\_classification.py:1471: UndefinedMetricWarning: Precision and F-score are ill-defined and being set to 0.0 in labels with no predicted samples. Use `zero_division` parameter to control this behavior.\n",
      "  _warn_prf(average, modifier, msg_start, len(result))\n",
      "C:\\Users\\Cloud\\AppData\\Local\\Programs\\Python\\Python310\\lib\\site-packages\\sklearn\\metrics\\_classification.py:1471: UndefinedMetricWarning: Precision and F-score are ill-defined and being set to 0.0 in labels with no predicted samples. Use `zero_division` parameter to control this behavior.\n",
      "  _warn_prf(average, modifier, msg_start, len(result))\n"
     ]
    }
   ],
   "source": [
    "#Evaluation\n",
    "from sklearn.metrics import accuracy_score, precision_score, classification_report\n",
    "\n",
    "precision = precision_score(y_test, predictions, average='weighted')\n",
    "accuracy = accuracy_score(y_test, predictions)\n",
    "classif_report = classification_report(y_test, predictions)\n",
    "print(\"accuracy : \",accuracy)\n",
    "print(\"precision\",precision)\n",
    "print(\"\\n classification_report: \\n\",classif_report)"
   ]
  },
  {
   "cell_type": "code",
   "execution_count": null,
   "id": "775519f3-1a18-46dd-b4e8-c79411316e10",
   "metadata": {},
   "outputs": [],
   "source": []
  }
 ],
 "metadata": {
  "kernelspec": {
   "display_name": "Python 3 (ipykernel)",
   "language": "python",
   "name": "python3"
  },
  "language_info": {
   "codemirror_mode": {
    "name": "ipython",
    "version": 3
   },
   "file_extension": ".py",
   "mimetype": "text/x-python",
   "name": "python",
   "nbconvert_exporter": "python",
   "pygments_lexer": "ipython3",
   "version": "3.10.0"
  }
 },
 "nbformat": 4,
 "nbformat_minor": 5
}
