{
  "nbformat": 4,
  "nbformat_minor": 0,
  "metadata": {
    "colab": {
      "provenance": []
    },
    "kernelspec": {
      "name": "python3",
      "display_name": "Python 3"
    },
    "language_info": {
      "name": "python"
    }
  },
  "cells": [
    {
      "cell_type": "code",
      "execution_count": null,
      "metadata": {
        "id": "tMRddQoBlRmK"
      },
      "outputs": [],
      "source": [
        "import numpy as np\n",
        "import pandas as pd\n",
        "import matplotlib.pyplot as plt\n",
        "import math\n",
        "\n",
        "df = pd.read_csv('The_Ads.csv')\n"
      ]
    },
    {
      "cell_type": "code",
      "source": [
        "df"
      ],
      "metadata": {
        "id": "CsTMGoJuYUH5"
      },
      "execution_count": null,
      "outputs": []
    },
    {
      "cell_type": "code",
      "source": [
        "\n",
        "N = df.shape[0]      #pour obtenir le nombre d'utilisateurs \"nombre d'essais maximum\"\n",
        "d = df.shape[1]      #pour obtenir le nombre des ads\n",
        "ads_selected = []    #pour stocker l'ad sélectionné à chaque tour\n",
        "numbers_of_selections = [1] * d        #stocker pour chaque ad le nombre de selection par  l'algo \"Ni(n)\"\n",
        "sums_of_rewards = [0] * d              #stocker somme des recompenses pour chaque ad \"Ri(n)\"\n",
        "total_reward = 0                       #stocker tous les recompenses de tous les ads\n"
      ],
      "metadata": {
        "id": "Rkt-SqniAkL9"
      },
      "execution_count": null,
      "outputs": []
    },
    {
      "cell_type": "code",
      "source": [
        "# UCB application on the data\n",
        "for n in range(N):\n",
        "    ad = 0\n",
        "    max_upper_bound = 0\n",
        "    for i in range(d):\n",
        "        average_reward = sums_of_rewards[i] / numbers_of_selections[i]\n",
        "        delta_i = math.sqrt(3/2 * math.log(n+1) / numbers_of_selections[i])\n",
        "        upper_bound = average_reward + delta_i\n",
        "\n",
        "        if upper_bound > max_upper_bound:\n",
        "            max_upper_bound = upper_bound\n",
        "            ad = i\n",
        "\n",
        "    ads_selected.append(ad)\n",
        "    numbers_of_selections[ad] += 1\n",
        "    reward = df.iloc[n, ad]\n",
        "    sums_of_rewards[ad] += reward\n",
        "    total_reward += reward"
      ],
      "metadata": {
        "id": "gA6XsBe7YR1S"
      },
      "execution_count": null,
      "outputs": []
    },
    {
      "cell_type": "code",
      "source": [
        "print(\"total reward = \",total_reward)\n",
        "\n",
        "print(\"The selected Ads by the algorithm in every round :\")\n",
        "print(ads_selected)"
      ],
      "metadata": {
        "id": "DOsXsc_BYGNb"
      },
      "execution_count": null,
      "outputs": []
    },
    {
      "cell_type": "code",
      "source": [
        "from collections import Counter\n",
        "Counter(ads_selected)"
      ],
      "metadata": {
        "id": "NgbZNyi8RZd7"
      },
      "execution_count": null,
      "outputs": []
    },
    {
      "cell_type": "code",
      "source": [
        "plt.hist(ads_selected)\n",
        "plt.title(\"Histogram of ads selections\")\n",
        "plt.xlabel(\"Ads\")\n",
        "plt.ylabel(\"Number of times\")"
      ],
      "metadata": {
        "id": "Smt6TqGfneS2"
      },
      "execution_count": null,
      "outputs": []
    }
  ]
}